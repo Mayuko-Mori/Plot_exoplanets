{
 "cells": [
  {
   "cell_type": "code",
   "execution_count": 1,
   "id": "29934a2d",
   "metadata": {},
   "outputs": [
    {
     "data": {
      "text/plain": [
       "19"
      ]
     },
     "execution_count": 1,
     "metadata": {},
     "output_type": "execute_result"
    }
   ],
   "source": [
    "import os\n",
    "\n",
    "os.environ[\"OMP_NUM_THREADS\"] = \"1\"\n",
    "os.nice(19)"
   ]
  },
  {
   "cell_type": "code",
   "execution_count": 2,
   "id": "bb0f6340",
   "metadata": {},
   "outputs": [],
   "source": [
    "import os\n",
    "from glob import glob\n",
    "import pandas as pd\n",
    "import numpy as np\n",
    "import matplotlib\n",
    "import matplotlib.pyplot as pl\n",
    "from astropy import constants as c\n",
    "%matplotlib inline\n",
    "\n",
    "#styling\n",
    "import seaborn as sns\n",
    "sns.set_style(style='ticks', rc=None)\n",
    "sns.set_style({\"xtick.direction\": \"in\",\"ytick.direction\": \"in\"})\n",
    "\n",
    "matplotlib.rcParams.update({'font.size': 20})\n",
    "pl.rcParams['ytick.labelsize'] = 'large'\n",
    "pl.rcParams['xtick.labelsize'] = 'large'\n",
    "fontsize=20"
   ]
  },
  {
   "cell_type": "code",
   "execution_count": 3,
   "id": "5d8af8ae",
   "metadata": {},
   "outputs": [],
   "source": [
    "import batman"
   ]
  },
  {
   "cell_type": "code",
   "execution_count": 4,
   "id": "6e866b1b",
   "metadata": {},
   "outputs": [],
   "source": [
    "params = batman.TransitParams()\n",
    "params.t0 = 0.                       #time of inferior conjunction\n",
    "params.per = 1.                      #orbital period\n",
    "params.rp = 0.1                      #planet radius (in units of stellar radii)\n",
    "params.a = 15.                       #semi-major axis (in units of stellar radii)\n",
    "params.inc = 87.                     #orbital inclination (in degrees)\n",
    "params.ecc = 0.                      #eccentricity\n",
    "params.w = 90.                       #longitude of periastron (in degrees)\n",
    "params.u = [0.1, 0.3]                #limb darkening coefficients [u1, u2]\n",
    "params.limb_dark = \"quadratic\"       #limb darkening model"
   ]
  },
  {
   "cell_type": "code",
   "execution_count": 5,
   "id": "ff4fe203",
   "metadata": {},
   "outputs": [],
   "source": [
    "t = np.linspace(-0.02, 0.02, 100)\n",
    "m = batman.TransitModel(params, t)    #initializes model\n",
    "flux = m.light_curve(params)          #calculates light curve"
   ]
  },
  {
   "cell_type": "code",
   "execution_count": 6,
   "id": "a8dc35ed",
   "metadata": {},
   "outputs": [
    {
     "data": {
      "image/png": "[encoded data removed]",
      "text/plain": [
       "<Figure size 1200x300 with 1 Axes>"
      ]
     },
     "metadata": {},
     "output_type": "display_data"
    }
   ],
   "source": [
    "fig, ax = pl.subplots(figsize=(12, 3))\n",
    "\n",
    "ax.plot(t, flux, lw=5, color='k')\n",
    "ax.set_xlabel(\"Time from central transit\")\n",
    "ax.set_ylabel(\"Relative flux\")\n",
    "ax.axis('off')\n",
    "\n",
    "ax.set_xticks([])\n",
    "ax.set_yticks([])\n",
    "ax.xaxis.set_ticklabels([])\n",
    "ax.yaxis.set_ticklabels([])\n",
    "fig.savefig('transit_white.png')"
   ]
  },
  {
   "cell_type": "code",
   "execution_count": null,
   "id": "b1d3924d",
   "metadata": {},
   "outputs": [],
   "source": []
  },
  {
   "cell_type": "code",
   "execution_count": null,
   "id": "83c34fef",
   "metadata": {},
   "outputs": [],
   "source": []
  },
  {
   "cell_type": "code",
   "execution_count": null,
   "id": "8c24b2d6",
   "metadata": {},
   "outputs": [],
   "source": []
  },
  {
   "cell_type": "code",
   "execution_count": null,
   "id": "5760b4ee",
   "metadata": {},
   "outputs": [],
   "source": []
  }
 ],
 "metadata": {
  "kernelspec": {
   "display_name": "Python 3 (ipykernel)",
   "language": "python",
   "name": "python3"
  },
  "language_info": {
   "codemirror_mode": {
    "name": "ipython",
    "version": 3
   },
   "file_extension": ".py",
   "mimetype": "text/x-python",
   "name": "python",
   "nbconvert_exporter": "python",
   "pygments_lexer": "ipython3",
   "version": "3.9.12"
  }
 },
 "nbformat": 4,
 "nbformat_minor": 5
}
